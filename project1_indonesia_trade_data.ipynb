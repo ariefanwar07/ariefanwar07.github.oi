{
  "nbformat": 4,
  "nbformat_minor": 0,
  "metadata": {
    "colab": {
      "provenance": [],
      "authorship_tag": "ABX9TyMonxRbqg6GsUAjaMnRuwNG",
      "include_colab_link": true
    },
    "kernelspec": {
      "name": "python3",
      "display_name": "Python 3"
    },
    "language_info": {
      "name": "python"
    }
  },
  "cells": [
    {
      "cell_type": "markdown",
      "metadata": {
        "id": "view-in-github",
        "colab_type": "text"
      },
      "source": [
        "<a href=\"https://colab.research.google.com/github/ariefanwar07/ariefanwar07.github.oi/blob/main/project1_indonesia_trade_data.ipynb\" target=\"_parent\"><img src=\"https://colab.research.google.com/assets/colab-badge.svg\" alt=\"Open In Colab\"/></a>"
      ]
    },
    {
      "cell_type": "code",
      "execution_count": 5,
      "metadata": {
        "colab": {
          "base_uri": "https://localhost:8080/"
        },
        "id": "TBWbBEz4d2LR",
        "outputId": "ed582a01-3746-4a48-e57c-f22be9366183"
      },
      "outputs": [
        {
          "output_type": "stream",
          "name": "stdout",
          "text": [
            "Data for NE.EXP.GNFS.CD fetched successfully!\n",
            "Data for NE.IMP.GNFS.CD fetched successfully!\n",
            "Data for NE.RSB.GNFS.CD fetched successfully!\n",
            "Data saved to indonesia_trade_data.csv\n",
            "project1_indonesia_trade_data.json saved.\n"
          ]
        }
      ],
      "source": [
        "import os\n",
        "import subprocess\n",
        "import requests\n",
        "import pandas as pd\n",
        "import altair as alt\n",
        "\n",
        "def fetch_world_bank_data(country, indicator, date_range):\n",
        "    url = f\"https://api.worldbank.org/v2/country/{country}/indicator/{indicator}\"\n",
        "    params = {\"date\": date_range, \"format\": \"json\"}\n",
        "    response = requests.get(url, params=params)\n",
        "    if response.status_code == 200:\n",
        "        data = response.json()\n",
        "        if len(data) > 1:\n",
        "            print(f\"Data for {indicator} fetched successfully!\")\n",
        "            return pd.DataFrame(data[1])\n",
        "        else:\n",
        "            print(f\"No data available for {indicator}.\")\n",
        "            return pd.DataFrame()\n",
        "    else:\n",
        "        print(f\"Failed to fetch data for {indicator}: {response.status_code}\")\n",
        "        return pd.DataFrame()\n",
        "\n",
        "def generate_chart_and_json(data_file, output_json):\n",
        "    # Load and process data\n",
        "    data = pd.read_csv(data_file)\n",
        "    data['Year'] = pd.to_datetime(data['Year'], format='%Y')\n",
        "    data_long = data.melt(id_vars=[\"Year\"], value_vars=[\"Exports (US$)\", \"Imports (US$)\", \"Trade Balance (US$)\"],\n",
        "                          var_name=\"Indicator\", value_name=\"Value\")\n",
        "\n",
        "    # Create the chart\n",
        "    chart = alt.Chart(data_long).mark_line(point=True).encode(\n",
        "        x=alt.X(\"Year:T\", title=\"Year\"),\n",
        "        y=alt.Y(\"Value:Q\", title=\"Value (US$)\", scale=alt.Scale(zero=False)),\n",
        "        color=\"Indicator:N\",\n",
        "        tooltip=[\"Year:T\", \"Indicator:N\", \"Value:Q\"]\n",
        "    ).properties(\n",
        "        title=\"Indonesia Trade Indicators Over Time (1990–2022)\",\n",
        "        width=500,\n",
        "        height=300\n",
        "    )\n",
        "\n",
        "    # Save as JSON\n",
        "    chart.save(output_json)\n",
        "    print(f\"{output_json} saved.\")\n",
        "\n",
        "def push_to_github(repo_dir, commit_message=\"Update World Bank data and chart\"):\n",
        "    os.chdir(repo_dir)\n",
        "    subprocess.run([\"git\", \"add\", \".\"])\n",
        "    subprocess.run([\"git\", \"commit\", \"-m\", commit_message])\n",
        "    subprocess.run([\"git\", \"push\", \"origin\", \"main\"])  # Replace 'main' with your branch name\n",
        "    print(\"Changes pushed to GitHub.\")\n",
        "\n",
        "# Main script\n",
        "if __name__ == \"__main__\":\n",
        "    indicators = {\n",
        "        \"Exports (US$)\": \"NE.EXP.GNFS.CD\",\n",
        "        \"Imports (US$)\": \"NE.IMP.GNFS.CD\",\n",
        "        \"Trade Balance (US$)\": \"NE.RSB.GNFS.CD\"\n",
        "    }\n",
        "\n",
        "    all_data = pd.DataFrame()\n",
        "    for key, indicator in indicators.items():\n",
        "        df = fetch_world_bank_data(\"ID\", indicator, \"1990:2022\")\n",
        "        if not df.empty:\n",
        "            df = df[[\"date\", \"value\"]].rename(columns={\"date\": \"Year\", \"value\": key})\n",
        "            if all_data.empty:\n",
        "                all_data = df\n",
        "            else:\n",
        "                all_data = pd.merge(all_data, df, on=\"Year\", how=\"outer\")\n",
        "\n",
        "    # Save data to CSV\n",
        "    data_file = \"indonesia_trade_data.csv\"\n",
        "    all_data.to_csv(data_file, index=False)\n",
        "    print(f\"Data saved to {data_file}\")\n",
        "\n",
        "    # Generate chart JSON\n",
        "    output_json = \"project1_indonesia_trade_data.json\"\n",
        "    generate_chart_and_json(data_file, output_json)"
      ]
    }
  ]
}