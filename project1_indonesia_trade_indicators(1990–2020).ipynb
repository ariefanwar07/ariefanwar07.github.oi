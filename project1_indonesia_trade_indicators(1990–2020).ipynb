{
  "nbformat": 4,
  "nbformat_minor": 0,
  "metadata": {
    "colab": {
      "provenance": [],
      "authorship_tag": "ABX9TyO43jtR80SJ2bq4ouXDEN/t",
      "include_colab_link": true
    },
    "kernelspec": {
      "name": "python3",
      "display_name": "Python 3"
    },
    "language_info": {
      "name": "python"
    }
  },
  "cells": [
    {
      "cell_type": "markdown",
      "metadata": {
        "id": "view-in-github",
        "colab_type": "text"
      },
      "source": [
        "<a href=\"https://colab.research.google.com/github/ariefanwar07/ariefanwar07.github.oi/blob/main/project1_indonesia_trade_indicators(1990%E2%80%932020).ipynb\" target=\"_parent\"><img src=\"https://colab.research.google.com/assets/colab-badge.svg\" alt=\"Open In Colab\"/></a>"
      ]
    },
    {
      "cell_type": "code",
      "source": [
        "pip install requests pandas\n"
      ],
      "metadata": {
        "colab": {
          "base_uri": "https://localhost:8080/"
        },
        "id": "oNEInYQFOGGD",
        "outputId": "0b567df7-39c4-41d0-ad48-4c9818580ef2"
      },
      "execution_count": 3,
      "outputs": [
        {
          "output_type": "stream",
          "name": "stdout",
          "text": [
            "Requirement already satisfied: requests in /usr/local/lib/python3.10/dist-packages (2.32.3)\n",
            "Requirement already satisfied: pandas in /usr/local/lib/python3.10/dist-packages (2.2.2)\n",
            "Requirement already satisfied: charset-normalizer<4,>=2 in /usr/local/lib/python3.10/dist-packages (from requests) (3.4.0)\n",
            "Requirement already satisfied: idna<4,>=2.5 in /usr/local/lib/python3.10/dist-packages (from requests) (3.10)\n",
            "Requirement already satisfied: urllib3<3,>=1.21.1 in /usr/local/lib/python3.10/dist-packages (from requests) (2.2.3)\n",
            "Requirement already satisfied: certifi>=2017.4.17 in /usr/local/lib/python3.10/dist-packages (from requests) (2024.12.14)\n",
            "Requirement already satisfied: numpy>=1.22.4 in /usr/local/lib/python3.10/dist-packages (from pandas) (1.26.4)\n",
            "Requirement already satisfied: python-dateutil>=2.8.2 in /usr/local/lib/python3.10/dist-packages (from pandas) (2.8.2)\n",
            "Requirement already satisfied: pytz>=2020.1 in /usr/local/lib/python3.10/dist-packages (from pandas) (2024.2)\n",
            "Requirement already satisfied: tzdata>=2022.7 in /usr/local/lib/python3.10/dist-packages (from pandas) (2024.2)\n",
            "Requirement already satisfied: six>=1.5 in /usr/local/lib/python3.10/dist-packages (from python-dateutil>=2.8.2->pandas) (1.17.0)\n"
          ]
        }
      ]
    },
    {
      "cell_type": "code",
      "source": [
        "import requests\n",
        "import pandas as pd\n",
        "\n",
        "# Function to fetch data from World Bank API\n",
        "def fetch_world_bank_data(country, indicator, date_range):\n",
        "    url = f\"https://api.worldbank.org/v2/country/{country}/indicator/{indicator}\"\n",
        "    params = {\n",
        "        \"date\": date_range,\n",
        "        \"format\": \"json\"\n",
        "    }\n",
        "    response = requests.get(url, params=params)\n",
        "\n",
        "    if response.status_code == 200:\n",
        "        data = response.json()\n",
        "        if len(data) > 1:\n",
        "            print(f\"Data for {indicator} fetched successfully!\")\n",
        "            return pd.DataFrame(data[1])  # Data is in the second element of the response\n",
        "        else:\n",
        "            print(f\"No data available for {indicator}.\")\n",
        "            return pd.DataFrame()\n",
        "    else:\n",
        "        print(f\"Failed to fetch data for {indicator}: {response.status_code}\")\n",
        "        return pd.DataFrame()\n",
        "\n",
        "# Fetch data for exports (US$), imports (US$), and trade balance (US$)\n",
        "indicators = {\n",
        "    \"Exports (US$)\": \"NE.EXP.GNFS.CD\",  # Exports of goods and services (current US$)\n",
        "    \"Imports (US$)\": \"NE.IMP.GNFS.CD\",  # Imports of goods and services (current US$)\n",
        "    \"Trade Balance (US$)\": \"NE.RSB.GNFS.CD\"  # Trade balance (US$)\n",
        "}\n",
        "\n",
        "# Initialize an empty DataFrame\n",
        "all_data = pd.DataFrame()\n",
        "\n",
        "# Loop through indicators and fetch data\n",
        "for key, indicator in indicators.items():\n",
        "    df = fetch_world_bank_data(\"ID\", indicator, \"1990:2020\")\n",
        "    if not df.empty:\n",
        "        df = df[[\"date\", \"value\"]].rename(columns={\"date\": \"Year\", \"value\": key})\n",
        "        if all_data.empty:\n",
        "            all_data = df\n",
        "        else:\n",
        "            all_data = pd.merge(all_data, df, on=\"Year\", how=\"outer\")\n",
        "\n",
        "# Display the final DataFrame\n",
        "print(all_data)\n",
        "\n",
        "# Save to CSV\n",
        "all_data.to_csv(\"indonesia_trade_data.csv\", index=False)\n",
        "print(\"Data saved to indonesia_trade_data.csv\")\n"
      ],
      "metadata": {
        "colab": {
          "base_uri": "https://localhost:8080/"
        },
        "id": "TgOLNOTLPLo7",
        "outputId": "120aab5f-e54e-4386-f716-e34172484952"
      },
      "execution_count": 9,
      "outputs": [
        {
          "output_type": "stream",
          "name": "stdout",
          "text": [
            "Data for NE.EXP.GNFS.CD fetched successfully!\n",
            "Data for NE.IMP.GNFS.CD fetched successfully!\n",
            "Data for NE.RSB.GNFS.CD fetched successfully!\n",
            "    Year  Exports (US$)  Imports (US$)  Trade Balance (US$)\n",
            "0   1990   2.898253e+10   2.715728e+10         1.825256e+09\n",
            "1   1991   3.306381e+10   3.089119e+10         2.172618e+09\n",
            "2   1992   3.880173e+10   3.472088e+10         4.080850e+09\n",
            "3   1993   4.227440e+10   3.755594e+10         4.718461e+09\n",
            "4   1994   4.689663e+10   4.486988e+10         2.026750e+09\n",
            "5   1995   5.318531e+10   5.588228e+10        -2.696967e+09\n",
            "6   1996   5.871720e+10   6.011698e+10        -1.399778e+09\n",
            "7   1997   6.010604e+10   6.070015e+10        -5.941129e+08\n",
            "8   1998   5.055573e+10   4.124971e+10         9.306014e+09\n",
            "9   1999   4.972026e+10   3.840207e+10         1.131819e+10\n",
            "10  2000   6.762117e+10   5.026469e+10         1.735648e+10\n",
            "11  2001   6.262588e+10   4.935520e+10         1.327068e+10\n",
            "12  2002   6.395680e+10   5.163844e+10         1.231836e+10\n",
            "13  2003   7.155314e+10   5.432362e+10         1.722952e+10\n",
            "14  2004   8.274435e+10   7.074469e+10         1.199966e+10\n",
            "15  2005   9.738763e+10   8.553380e+10         1.185383e+10\n",
            "16  2006   1.131434e+11   9.341175e+10         1.973167e+10\n",
            "17  2007   1.272261e+11   1.097551e+11         1.747101e+10\n",
            "18  2008   1.520904e+11   1.467066e+11         5.383773e+09\n",
            "19  2009   1.303578e+11   1.152165e+11         1.514125e+10\n",
            "20  2010   1.834806e+11   1.691580e+11         1.432254e+10\n",
            "21  2011   2.350951e+11   2.129969e+11         2.209824e+10\n",
            "22  2012   2.257444e+11   2.293621e+11        -3.617699e+09\n",
            "23  2013   2.183084e+11   2.255194e+11        -7.210947e+09\n",
            "24  2014   2.108201e+11   2.174852e+11        -6.665133e+09\n",
            "25  2015   1.821583e+11   1.788637e+11         3.294646e+09\n",
            "26  2016   1.778860e+11   1.708350e+11         7.051012e+09\n",
            "27  2017   2.049245e+11   1.947773e+11         1.014717e+10\n",
            "28  2018   2.189056e+11   2.300456e+11        -1.113996e+10\n",
            "29  2019   2.080578e+11   2.130346e+11        -4.976883e+09\n",
            "30  2020   1.835466e+11   1.656468e+11         1.789973e+10\n",
            "Data saved to indonesia_trade_data.csv\n"
          ]
        }
      ]
    },
    {
      "cell_type": "code",
      "source": [
        "import pandas as pd\n",
        "import altair as alt\n",
        "\n",
        "# Load the data\n",
        "data = pd.read_csv(\"indonesia_trade_data.csv\")  # Replace with your actual data file path\n",
        "\n",
        "# Convert Year to datetime format before melting\n",
        "data['Year'] = pd.to_datetime(data['Year'], format='%Y')\n",
        "\n",
        "# Melt the DataFrame into a long format for Altair compatibility\n",
        "data_long = data.melt(id_vars=[\"Year\"], value_vars=[\"Exports (US$)\", \"Imports (US$)\", \"Trade Balance (US$)\"],\n",
        "                      var_name=\"Indicator\", value_name=\"Value\")\n",
        "\n",
        "# Create the static interactive line chart\n",
        "chart = alt.Chart(data_long).mark_line(point=True).encode(\n",
        "    x=alt.X(\"Year:T\", title=\"Year\"),  # Use temporal type for the x-axis\n",
        "    y=alt.Y(\"Value:Q\", title=\"Value (US$)\", scale=alt.Scale(zero=False)),\n",
        "    color=\"Indicator:N\",\n",
        "    tooltip=[\"Year:T\", \"Indicator:N\", \"Value:Q\"]\n",
        ").properties(\n",
        "    title=\"Indonesia Trade Indicators Over Time (1990–2020)\",\n",
        "    width=500,  # Reduced width\n",
        "    height=300  # Reduced height\n",
        ")\n",
        "\n",
        "# Save the chart as JSON\n",
        "chart.save(\"project1_indonesia_trade_data.json\")\n",
        "\n",
        "print(\"project1_indonesia_trade_data saved as 'project1_indonesia_trade_data.json'.\")\n"
      ],
      "metadata": {
        "colab": {
          "base_uri": "https://localhost:8080/"
        },
        "id": "3weqQX1iQGbq",
        "outputId": "2a6cc785-66dd-43c6-eef7-e8ee4fafc450"
      },
      "execution_count": 20,
      "outputs": [
        {
          "output_type": "stream",
          "name": "stdout",
          "text": [
            "project1_indonesia_trade_data saved as 'project1_indonesia_trade_data.json'.\n"
          ]
        }
      ]
    }
  ]
}