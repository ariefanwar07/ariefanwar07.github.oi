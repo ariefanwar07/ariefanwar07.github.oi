{
  "nbformat": 4,
  "nbformat_minor": 0,
  "metadata": {
    "colab": {
      "provenance": [],
      "authorship_tag": "ABX9TyObjLIsTiXE/mK78wy43OhS",
      "include_colab_link": true
    },
    "kernelspec": {
      "name": "python3",
      "display_name": "Python 3"
    },
    "language_info": {
      "name": "python"
    }
  },
  "cells": [
    {
      "cell_type": "markdown",
      "metadata": {
        "id": "view-in-github",
        "colab_type": "text"
      },
      "source": [
        "<a href=\"https://colab.research.google.com/github/ariefanwar07/ariefanwar07.github.oi/blob/main/project_commodity_price_import_unit.ipynb\" target=\"_parent\"><img src=\"https://colab.research.google.com/assets/colab-badge.svg\" alt=\"Open In Colab\"/></a>"
      ]
    },
    {
      "cell_type": "code",
      "execution_count": 1,
      "metadata": {
        "colab": {
          "base_uri": "https://localhost:8080/"
        },
        "id": "PiyiAUxhXSnh",
        "outputId": "b97d2139-f0cf-4722-b7be-4cb5234c8cf6"
      },
      "outputs": [
        {
          "output_type": "stream",
          "name": "stdout",
          "text": [
            "Requirement already satisfied: requests in /usr/local/lib/python3.10/dist-packages (2.32.3)\n",
            "Requirement already satisfied: pandas in /usr/local/lib/python3.10/dist-packages (2.2.2)\n",
            "Requirement already satisfied: charset-normalizer<4,>=2 in /usr/local/lib/python3.10/dist-packages (from requests) (3.4.0)\n",
            "Requirement already satisfied: idna<4,>=2.5 in /usr/local/lib/python3.10/dist-packages (from requests) (3.10)\n",
            "Requirement already satisfied: urllib3<3,>=1.21.1 in /usr/local/lib/python3.10/dist-packages (from requests) (2.2.3)\n",
            "Requirement already satisfied: certifi>=2017.4.17 in /usr/local/lib/python3.10/dist-packages (from requests) (2024.12.14)\n",
            "Requirement already satisfied: numpy>=1.22.4 in /usr/local/lib/python3.10/dist-packages (from pandas) (1.26.4)\n",
            "Requirement already satisfied: python-dateutil>=2.8.2 in /usr/local/lib/python3.10/dist-packages (from pandas) (2.8.2)\n",
            "Requirement already satisfied: pytz>=2020.1 in /usr/local/lib/python3.10/dist-packages (from pandas) (2024.2)\n",
            "Requirement already satisfied: tzdata>=2022.7 in /usr/local/lib/python3.10/dist-packages (from pandas) (2024.2)\n",
            "Requirement already satisfied: six>=1.5 in /usr/local/lib/python3.10/dist-packages (from python-dateutil>=2.8.2->pandas) (1.17.0)\n"
          ]
        }
      ],
      "source": [
        "pip install requests pandas\n"
      ]
    },
    {
      "cell_type": "code",
      "source": [
        "import requests\n",
        "import pandas as pd\n",
        "\n",
        "# Function to fetch data from World Bank API\n",
        "def fetch_world_bank_data(country, indicator, date_range):\n",
        "    url = f\"https://api.worldbank.org/v2/country/{country}/indicator/{indicator}\"\n",
        "    params = {\n",
        "        \"date\": date_range,\n",
        "        \"format\": \"json\"\n",
        "    }\n",
        "    response = requests.get(url, params=params)\n",
        "\n",
        "    if response.status_code == 200:\n",
        "        data = response.json()\n",
        "        if len(data) > 1:\n",
        "            print(f\"Data for {indicator} fetched successfully!\")\n",
        "            return pd.DataFrame(data[1])  # Data is in the second element of the response\n",
        "        else:\n",
        "            print(f\"No data available for {indicator}.\")\n",
        "            return pd.DataFrame()\n",
        "    else:\n",
        "        print(f\"Failed to fetch data for {indicator}: {response.status_code}\")\n",
        "        return pd.DataFrame()\n",
        "\n",
        "# Fetch data for exports (US$), imports (US$), and trade balance (US$)\n",
        "indicators = {\n",
        "    \"total_imports\": \"NE.IMP.GNFS.CD\",  # Imports of goods and services (current US$)\n",
        "}\n",
        "\n",
        "# Initialize an empty DataFrame\n",
        "all_data = pd.DataFrame()\n",
        "\n",
        "# Loop through indicators and fetch data\n",
        "for key, indicator in indicators.items():\n",
        "    df = fetch_world_bank_data(\"ID\", indicator, \"1990:2022\")\n",
        "    if not df.empty:\n",
        "        df = df[[\"date\", \"value\"]].rename(columns={\"date\": \"year\", \"value\": key})\n",
        "        if all_data.empty:\n",
        "            all_data = df\n",
        "        else:\n",
        "            all_data = pd.merge(all_data, df, on=\"year\", how=\"outer\")\n",
        "\n",
        "# Display the final DataFrame\n",
        "print(all_data)\n",
        "\n",
        "# Save to CSV\n",
        "all_data.to_csv(\"project_data_indonesia_import.csv\", index=False)\n",
        "print(\"Data saved to project_data_indonesia_import.csv\")"
      ],
      "metadata": {
        "colab": {
          "base_uri": "https://localhost:8080/"
        },
        "id": "EI8uyMKUXWCr",
        "outputId": "9fa02855-8475-4e29-c167-711183c6cf85"
      },
      "execution_count": 2,
      "outputs": [
        {
          "output_type": "stream",
          "name": "stdout",
          "text": [
            "Data for NE.IMP.GNFS.CD fetched successfully!\n",
            "    year  total_imports\n",
            "0   2022   2.765068e+11\n",
            "1   2021   2.229238e+11\n",
            "2   2020   1.656468e+11\n",
            "3   2019   2.130346e+11\n",
            "4   2018   2.300456e+11\n",
            "5   2017   1.947773e+11\n",
            "6   2016   1.708350e+11\n",
            "7   2015   1.788637e+11\n",
            "8   2014   2.174852e+11\n",
            "9   2013   2.255194e+11\n",
            "10  2012   2.293621e+11\n",
            "11  2011   2.129969e+11\n",
            "12  2010   1.691580e+11\n",
            "13  2009   1.152165e+11\n",
            "14  2008   1.467066e+11\n",
            "15  2007   1.097551e+11\n",
            "16  2006   9.341175e+10\n",
            "17  2005   8.553380e+10\n",
            "18  2004   7.074469e+10\n",
            "19  2003   5.432362e+10\n",
            "20  2002   5.163844e+10\n",
            "21  2001   4.935520e+10\n",
            "22  2000   5.026469e+10\n",
            "23  1999   3.840207e+10\n",
            "24  1998   4.124971e+10\n",
            "25  1997   6.070015e+10\n",
            "26  1996   6.011698e+10\n",
            "27  1995   5.588228e+10\n",
            "28  1994   4.486988e+10\n",
            "29  1993   3.755594e+10\n",
            "30  1992   3.472088e+10\n",
            "31  1991   3.089119e+10\n",
            "32  1990   2.715728e+10\n",
            "Data saved to project_data_indonesia_import.csv\n"
          ]
        }
      ]
    },
    {
      "cell_type": "code",
      "source": [
        "import pandas as pd\n",
        "\n",
        "# Load the first Excel file: Commodity Prices\n",
        "commodity_prices = pd.read_excel(\"/content/project_data_commodity_price_import_long_form.xlsx\")  # Adjust with your file path\n",
        "\n",
        "# Load the second file: Total Exports (CSV format)\n",
        "total_imports = pd.read_csv(\"/content/project_data_indonesia_import.csv\")  # Use read_csv for CSV files\n",
        "\n",
        "# Merge the data on the \"year\" column\n",
        "merged_data = pd.merge(commodity_prices, total_imports, on=\"year\", how=\"left\")\n",
        "\n",
        "# Save to a new Excel file for Vega-Lite or further analysis\n",
        "merged_data.to_excel(\"project_data_merged_commodity_data_import.xlsx\", index=False)\n",
        "\n",
        "# Check the merged data\n",
        "print(merged_data)\n"
      ],
      "metadata": {
        "colab": {
          "base_uri": "https://localhost:8080/"
        },
        "id": "i44-r5KhXmZG",
        "outputId": "4823a819-a338-4fc1-8c9c-e19b6246b3d8"
      },
      "execution_count": 3,
      "outputs": [
        {
          "output_type": "stream",
          "name": "stdout",
          "text": [
            "     year          commodity  commodity_price  total_imports\n",
            "0    1990  Crude oil ($/bbl)        22.879167   2.715728e+10\n",
            "1    1991  Crude oil ($/bbl)        19.370833   3.089119e+10\n",
            "2    1992  Crude oil ($/bbl)        19.020833   3.472088e+10\n",
            "3    1993  Crude oil ($/bbl)        16.841667   3.755594e+10\n",
            "4    1994  Crude oil ($/bbl)        15.886667   4.486988e+10\n",
            "..    ...                ...              ...            ...\n",
            "97   2019       Wheat ($/mt)       201.692129   2.130346e+11\n",
            "98   2020       Wheat ($/mt)       231.565488   1.656468e+11\n",
            "99   2021       Wheat ($/mt)       315.237500   2.229238e+11\n",
            "100  2022       Wheat ($/mt)       429.971667   2.765068e+11\n",
            "101  2023       Wheat ($/mt)       340.430000            NaN\n",
            "\n",
            "[102 rows x 4 columns]\n"
          ]
        }
      ]
    }
  ]
}