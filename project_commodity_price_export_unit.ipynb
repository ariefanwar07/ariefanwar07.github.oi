{
  "nbformat": 4,
  "nbformat_minor": 0,
  "metadata": {
    "colab": {
      "provenance": [],
      "authorship_tag": "ABX9TyM/ULVxHgvVjrwmdlEyeJuN",
      "include_colab_link": true
    },
    "kernelspec": {
      "name": "python3",
      "display_name": "Python 3"
    },
    "language_info": {
      "name": "python"
    }
  },
  "cells": [
    {
      "cell_type": "markdown",
      "metadata": {
        "id": "view-in-github",
        "colab_type": "text"
      },
      "source": [
        "<a href=\"https://colab.research.google.com/github/ariefanwar07/ariefanwar07.github.oi/blob/main/project_commodity_price_export_unit.ipynb\" target=\"_parent\"><img src=\"https://colab.research.google.com/assets/colab-badge.svg\" alt=\"Open In Colab\"/></a>"
      ]
    },
    {
      "cell_type": "code",
      "source": [
        "pip install requests pandas\n"
      ],
      "metadata": {
        "colab": {
          "base_uri": "https://localhost:8080/"
        },
        "id": "8GkH3zShTx1f",
        "outputId": "9f1295d2-5118-4b9b-fe4c-42f4f216a05f"
      },
      "execution_count": 3,
      "outputs": [
        {
          "output_type": "stream",
          "name": "stdout",
          "text": [
            "Requirement already satisfied: requests in /usr/local/lib/python3.10/dist-packages (2.32.3)\n",
            "Requirement already satisfied: pandas in /usr/local/lib/python3.10/dist-packages (2.2.2)\n",
            "Requirement already satisfied: charset-normalizer<4,>=2 in /usr/local/lib/python3.10/dist-packages (from requests) (3.4.0)\n",
            "Requirement already satisfied: idna<4,>=2.5 in /usr/local/lib/python3.10/dist-packages (from requests) (3.10)\n",
            "Requirement already satisfied: urllib3<3,>=1.21.1 in /usr/local/lib/python3.10/dist-packages (from requests) (2.2.3)\n",
            "Requirement already satisfied: certifi>=2017.4.17 in /usr/local/lib/python3.10/dist-packages (from requests) (2024.12.14)\n",
            "Requirement already satisfied: numpy>=1.22.4 in /usr/local/lib/python3.10/dist-packages (from pandas) (1.26.4)\n",
            "Requirement already satisfied: python-dateutil>=2.8.2 in /usr/local/lib/python3.10/dist-packages (from pandas) (2.8.2)\n",
            "Requirement already satisfied: pytz>=2020.1 in /usr/local/lib/python3.10/dist-packages (from pandas) (2024.2)\n",
            "Requirement already satisfied: tzdata>=2022.7 in /usr/local/lib/python3.10/dist-packages (from pandas) (2024.2)\n",
            "Requirement already satisfied: six>=1.5 in /usr/local/lib/python3.10/dist-packages (from python-dateutil>=2.8.2->pandas) (1.17.0)\n"
          ]
        }
      ]
    },
    {
      "cell_type": "code",
      "execution_count": 28,
      "metadata": {
        "colab": {
          "base_uri": "https://localhost:8080/"
        },
        "id": "j7MrFJTITWIW",
        "outputId": "df6c2859-5609-48c1-bae9-d28510e18cc3"
      },
      "outputs": [
        {
          "output_type": "stream",
          "name": "stdout",
          "text": [
            "Data for NE.EXP.GNFS.CD fetched successfully!\n",
            "    year  total_exports\n",
            "0   2022   3.232231e+11\n",
            "1   2021   2.541095e+11\n",
            "2   2020   1.835466e+11\n",
            "3   2019   2.080578e+11\n",
            "4   2018   2.189056e+11\n",
            "5   2017   2.049245e+11\n",
            "6   2016   1.778860e+11\n",
            "7   2015   1.821583e+11\n",
            "8   2014   2.108201e+11\n",
            "9   2013   2.183084e+11\n",
            "10  2012   2.257444e+11\n",
            "11  2011   2.350951e+11\n",
            "12  2010   1.834806e+11\n",
            "13  2009   1.303578e+11\n",
            "14  2008   1.520904e+11\n",
            "15  2007   1.272261e+11\n",
            "16  2006   1.131434e+11\n",
            "17  2005   9.738763e+10\n",
            "18  2004   8.274435e+10\n",
            "19  2003   7.155314e+10\n",
            "20  2002   6.395680e+10\n",
            "21  2001   6.262588e+10\n",
            "22  2000   6.762117e+10\n",
            "23  1999   4.972026e+10\n",
            "24  1998   5.055573e+10\n",
            "25  1997   6.010604e+10\n",
            "26  1996   5.871720e+10\n",
            "27  1995   5.318531e+10\n",
            "28  1994   4.689663e+10\n",
            "29  1993   4.227440e+10\n",
            "30  1992   3.880173e+10\n",
            "31  1991   3.306381e+10\n",
            "32  1990   2.898253e+10\n",
            "Data saved to project_data_indonesia_export.csv\n"
          ]
        }
      ],
      "source": [
        "import requests\n",
        "import pandas as pd\n",
        "\n",
        "# Function to fetch data from World Bank API\n",
        "def fetch_world_bank_data(country, indicator, date_range):\n",
        "    url = f\"https://api.worldbank.org/v2/country/{country}/indicator/{indicator}\"\n",
        "    params = {\n",
        "        \"date\": date_range,\n",
        "        \"format\": \"json\"\n",
        "    }\n",
        "    response = requests.get(url, params=params)\n",
        "\n",
        "    if response.status_code == 200:\n",
        "        data = response.json()\n",
        "        if len(data) > 1:\n",
        "            print(f\"Data for {indicator} fetched successfully!\")\n",
        "            return pd.DataFrame(data[1])  # Data is in the second element of the response\n",
        "        else:\n",
        "            print(f\"No data available for {indicator}.\")\n",
        "            return pd.DataFrame()\n",
        "    else:\n",
        "        print(f\"Failed to fetch data for {indicator}: {response.status_code}\")\n",
        "        return pd.DataFrame()\n",
        "\n",
        "# Fetch data for exports (US$), imports (US$), and trade balance (US$)\n",
        "indicators = {\n",
        "    \"total_exports\": \"NE.EXP.GNFS.CD\"  # Exports of goods and services (current US$)\n",
        "}\n",
        "\n",
        "# Initialize an empty DataFrame\n",
        "all_data = pd.DataFrame()\n",
        "\n",
        "# Loop through indicators and fetch data\n",
        "for key, indicator in indicators.items():\n",
        "    df = fetch_world_bank_data(\"ID\", indicator, \"1990:2022\")\n",
        "    if not df.empty:\n",
        "        df = df[[\"date\", \"value\"]].rename(columns={\"date\": \"year\", \"value\": key})\n",
        "        if all_data.empty:\n",
        "            all_data = df\n",
        "        else:\n",
        "            all_data = pd.merge(all_data, df, on=\"year\", how=\"outer\")\n",
        "\n",
        "# Display the final DataFrame\n",
        "print(all_data)\n",
        "\n",
        "# Save to CSV\n",
        "all_data.to_csv(\"project_data_indonesia_export.csv\", index=False)\n",
        "print(\"Data saved to project_data_indonesia_export.csv\")"
      ]
    },
    {
      "cell_type": "code",
      "source": [
        "import pandas as pd\n",
        "\n",
        "# Load the first Excel file: Commodity Prices\n",
        "commodity_prices = pd.read_excel(\"/content/project_data_commodity_price_export_long_form.xlsx\")  # Adjust with your file path\n",
        "\n",
        "# Load the second file: Total Exports (CSV format)\n",
        "total_exports = pd.read_csv(\"/content/project_data_indonesia_export.csv\")  # Use read_csv for CSV files\n",
        "\n",
        "# Merge the data on the \"year\" column\n",
        "merged_data = pd.merge(commodity_prices, total_exports, on=\"year\", how=\"left\")\n",
        "\n",
        "# Save to a new Excel file for Vega-Lite or further analysis\n",
        "merged_data.to_excel(\"project_data_merged_commodity_data_export.xlsx\", index=False)\n",
        "\n",
        "# Check the merged data\n",
        "print(merged_data)\n"
      ],
      "metadata": {
        "colab": {
          "base_uri": "https://localhost:8080/"
        },
        "id": "0bMVbLQsU_Ui",
        "outputId": "a340130b-c792-4f0e-cfec-4a34a0230319"
      },
      "execution_count": 29,
      "outputs": [
        {
          "output_type": "stream",
          "name": "stdout",
          "text": [
            "     year          commodity  commodity_price  total_exports\n",
            "0    1990  Crude oil ($/bbl)        22.879167   2.898253e+10\n",
            "1    1991  Crude oil ($/bbl)        19.370833   3.306381e+10\n",
            "2    1992  Crude oil ($/bbl)        19.020833   3.880173e+10\n",
            "3    1993  Crude oil ($/bbl)        16.841667   4.227440e+10\n",
            "4    1994  Crude oil ($/bbl)        15.886667   4.689663e+10\n",
            "..    ...                ...              ...            ...\n",
            "199  2019    Palm oil ($/mt)       601.366667   2.080578e+11\n",
            "200  2020    Palm oil ($/mt)       751.766158   1.835466e+11\n",
            "201  2021    Palm oil ($/mt)      1130.576667   2.541095e+11\n",
            "202  2022    Palm oil ($/mt)      1275.991667   3.232231e+11\n",
            "203  2023    Palm oil ($/mt)       886.453333            NaN\n",
            "\n",
            "[204 rows x 4 columns]\n"
          ]
        }
      ]
    },
    {
      "cell_type": "code",
      "source": [
        "print(\"Commodity Prices Columns:\", commodity_prices.columns)\n",
        "print(\"Total Exports Columns:\", total_exports.columns)"
      ],
      "metadata": {
        "colab": {
          "base_uri": "https://localhost:8080/"
        },
        "id": "jo1Pb712Wjd8",
        "outputId": "83b6e9e0-e0e8-493b-99a8-f74666ddd641"
      },
      "execution_count": 27,
      "outputs": [
        {
          "output_type": "stream",
          "name": "stdout",
          "text": [
            "Commodity Prices Columns: Index(['year', 'commodity', 'commodity_price'], dtype='object')\n",
            "Total Exports Columns: Index(['Year', 'total_exports'], dtype='object')\n"
          ]
        }
      ]
    }
  ]
}